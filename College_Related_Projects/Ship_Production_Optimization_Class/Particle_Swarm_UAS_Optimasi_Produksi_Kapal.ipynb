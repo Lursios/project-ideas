{
  "nbformat": 4,
  "nbformat_minor": 0,
  "metadata": {
    "colab": {
      "provenance": [],
      "authorship_tag": "ABX9TyM83+WqTdhQoxiZXGXbM38q",
      "include_colab_link": true
    },
    "kernelspec": {
      "name": "python3",
      "display_name": "Python 3"
    },
    "language_info": {
      "name": "python"
    }
  },
  "cells": [
    {
      "cell_type": "markdown",
      "metadata": {
        "id": "view-in-github",
        "colab_type": "text"
      },
      "source": [
        "<a href=\"https://colab.research.google.com/github/Lursios/projects/blob/main/College_Related_Projects/Ship_Production_Optimization_Class/Particle_Swarm_UAS_Optimasi_Produksi_Kapal.ipynb\" target=\"_parent\"><img src=\"https://colab.research.google.com/assets/colab-badge.svg\" alt=\"Open In Colab\"/></a>"
      ]
    },
    {
      "cell_type": "code",
      "execution_count": null,
      "metadata": {
        "id": "qLqQO6Un3YSM"
      },
      "outputs": [],
      "source": [
        "import numpy as np\n",
        "import pandas as pd\n",
        "import matplotlib.pyplot as plt\n",
        "import queue"
      ]
    },
    {
      "cell_type": "code",
      "source": [
        "#Swarm Intialization\n",
        "n_pop = 25 #Jumlah partikel\n",
        "n_blocks = 8\n",
        "n_workstation = 6\n",
        "#Xp = np.array([np.random.permutation(range(1,n_blocks + 1)) for _ in range(n_pop)]) # Array of particle need connversion\n",
        "X = np.random.uniform(0, n_blocks, size= (n_pop,n_blocks))\n",
        "V = np.random.uniform(0, n_blocks, size= (n_pop,n_blocks))\n",
        "\n",
        "#data for fitness evaluation\n",
        "sample_prep_time = np.random.randint(n_blocks, size = (n_blocks,n_workstation))\n",
        "sample_process_time = np.random.randint(n_blocks, size = (n_blocks,n_workstation))\n",
        "\n",
        "#liat datanya\n",
        "print(sample_process_time )"
      ],
      "metadata": {
        "id": "SaFEtloi33QD",
        "colab": {
          "base_uri": "https://localhost:8080/"
        },
        "outputId": "16b9c678-4e5c-4384-dffb-ebc72f3e6bf2"
      },
      "execution_count": null,
      "outputs": [
        {
          "output_type": "stream",
          "name": "stdout",
          "text": [
            "[[0 4 1 3 2 6]\n",
            " [1 5 1 0 7 7]\n",
            " [5 4 5 6 5 1]\n",
            " [2 2 4 0 4 1]\n",
            " [7 5 3 7 4 0]\n",
            " [3 4 4 1 5 6]\n",
            " [3 0 3 1 1 0]\n",
            " [5 7 5 4 3 0]]\n"
          ]
        }
      ]
    },
    {
      "cell_type": "code",
      "source": [
        "#def encoding_pop(solutions,reverse = False):\n",
        " # X_encoded = []\n",
        " # for solution in solutions :\n",
        " #   if reverse == True:\n",
        " #     temp = {}\n",
        " #     encoded = []\n",
        " #     rand_nums = [np.random.uniform(0,n_blocks) for i in range(solution)]\n",
        " #   for reversal in np.argsort(rand_nums):\n",
        " #       temp[reversal] = rand_nums[reversal]\n",
        " #     for value in solution :\n",
        " #       encoded.append(temp[value])\n",
        " #     X_encoded.append(encoded)\n",
        " #   else :\n",
        " #       X_encoded.append(np.argsort(solution) + 1)\n",
        " #   return np.array(X_encoded)\n",
        "\n",
        "#print(encoding_pop(Xp,True))\n",
        "\n"
      ],
      "metadata": {
        "id": "FoSrjWUPLpsZ"
      },
      "execution_count": null,
      "outputs": []
    },
    {
      "cell_type": "code",
      "source": [
        "#Hyperparameter\n",
        "w = 0.5 #Interial Weight\n",
        "c1 = 0.3  #Cognitive Learning Factor\n",
        "c2 = 0.3  #Social Leraning Factor\n",
        "\n",
        "#Conversion Based on Ranked Order Value\n",
        "def encoding_pop(solutions,reverse = True):\n",
        "  X_encoded = []\n",
        "  for solution in solutions :\n",
        "      X_encoded.append(np.argsort(solution) + 1)\n",
        "  return np.array(X_encoded)\n",
        "\n",
        "def encoding_part(solution) :\n",
        "  return np.argsort(solution) + 1\n",
        "\n",
        "#contoh printan\n",
        "#print(X)\n",
        "#print(encoding(X))\n",
        ""
      ],
      "metadata": {
        "id": "K0pY5jJ5K0vK"
      },
      "execution_count": null,
      "outputs": []
    },
    {
      "cell_type": "code",
      "source": [
        "#Fitness Evaluation\n",
        "def calculate_obj(sol,sample_process_time,n_blocks,m_station):\n",
        "  qTime = queue.PriorityQueue()\n",
        "  qMachines = []\n",
        "  for i in range(m_station):\n",
        "      qMachines.append(queue.Queue())\n",
        "\n",
        "  for i in range(n_blocks):\n",
        "      qMachines[0].put(sol[i])\n",
        "\n",
        "  busyMachines = []\n",
        "  for i in range(m_station):\n",
        "      busyMachines.append(False)\n",
        "\n",
        "  time = 0\n",
        "  job = qMachines[0].get()\n",
        "  qTime.put((time + sample_process_time[job-1][0], 0, job))\n",
        "  busyMachines[0] = True\n",
        "\n",
        "  while True:\n",
        "          time, workstation , block = qTime.get()\n",
        "          #print(f\"it's processing block {block} at time interval {time} in workstasion {workstation+1} current work stasion condition : {busyMachines}\")\n",
        "          # Remove the hashtage on upper code to see the calculation processes\n",
        "          if block == sol[n_blocks-1] and workstation == m_station-1:\n",
        "              break\n",
        "          busyMachines[workstation] = False\n",
        "          if not qMachines[workstation].empty():\n",
        "                  j = qMachines[workstation].get()\n",
        "                  qTime.put((time+sample_process_time[j-1][workstation], workstation, j))\n",
        "                  busyMachines[workstation] = True\n",
        "          if workstation < m_station-1:\n",
        "              if busyMachines[workstation+1] == False:\n",
        "                  qTime.put((time+sample_process_time[block-1][workstation], workstation+1, block))\n",
        "                  busyMachines[workstation+1] = True\n",
        "              else:\n",
        "                  qMachines[workstation+1].put(block)\n",
        "  return time\n",
        "\n",
        "def fitness(converted_solutions,cal_obj,process_time,n_blocks,n_workstation):\n",
        "  c_max = [] #Maximum Block Completion Time\n",
        "  for solution in converted_solutions :\n",
        "    c_max.append(calculate_obj(solution,process_time,n_blocks,n_workstation))\n",
        "  return np.array(c_max)\n",
        "\n",
        "\n",
        ""
      ],
      "metadata": {
        "id": "p37dOwu__qbo"
      },
      "execution_count": null,
      "outputs": []
    },
    {
      "cell_type": "code",
      "source": [
        "# Initialize data\n",
        "pbest = X #Convert dulu jadi location\n",
        "pbest_obj = fitness(encoding_pop(X),calculate_obj,sample_process_time,n_blocks,n_workstation)\n",
        "gbest = pbest[pbest_obj.argmin()]\n",
        "gbest_obj = pbest_obj.min()\n",
        "\n",
        "print(encoding_part(gbest))\n",
        "print(gbest)\n",
        "print(gbest_obj)"
      ],
      "metadata": {
        "colab": {
          "base_uri": "https://localhost:8080/"
        },
        "id": "WRnkjqioAlhO",
        "outputId": "ff47ceaf-05c5-477b-cd6f-66cde25b64bb"
      },
      "execution_count": null,
      "outputs": [
        {
          "output_type": "stream",
          "name": "stdout",
          "text": [
            "[2 4 3 6 1 5 8 7]\n",
            "[6.35930897 0.34415581 2.22596698 1.43157964 6.79932061 5.3930378\n",
            " 7.75193268 7.26933721]\n",
            "52\n"
          ]
        }
      ]
    },
    {
      "cell_type": "code",
      "source": [
        "#Updating Particle\n",
        "def update():\n",
        "    \"Function to do one iteration of particle swarm optimization\"\n",
        "    global V, X, pbest, pbest_obj, gbest, gbest_obj\n",
        "    # Update params\n",
        "    r1, r2 = np.random.rand(2)\n",
        "    V = w * V + c1*r1*(pbest - X) + c2*r2*(gbest.reshape(-1,n_blocks)-X)\n",
        "    Xn = X + V\n",
        "    obj = fitness(encoding_pop(Xn),calculate_obj,sample_process_time,n_blocks,n_workstation)\n",
        "    pbest[(pbest_obj >= obj)] = X[(pbest_obj >= obj)]\n",
        "    pbest_obj = np.array([pbest_obj, obj]).min(axis=0)\n",
        "    gbest = pbest[pbest_obj.argmin()]\n",
        "    gbest_obj = pbest_obj.min()"
      ],
      "metadata": {
        "id": "32vikl7GUBRn"
      },
      "execution_count": null,
      "outputs": []
    },
    {
      "cell_type": "code",
      "source": [
        "#Stopping Condition\n",
        "iteration = 0\n",
        "max_iter = 300\n",
        "while True :\n",
        "  if iteration == max_iter :\n",
        "    print(f\"PSO found best schedule at {gbest} with total time {gbest_obj} at {iteration} iteration\")\n",
        "    break\n",
        "  update()\n",
        "  iteration += 1"
      ],
      "metadata": {
        "colab": {
          "base_uri": "https://localhost:8080/"
        },
        "id": "Gzhpe4hq_uV-",
        "outputId": "f1b3dfaa-475f-46f0-d1b6-cd2147884b89"
      },
      "execution_count": null,
      "outputs": [
        {
          "output_type": "stream",
          "name": "stdout",
          "text": [
            "PSO found best schedule at [5.4476879  5.95328952 7.70881787 6.81896899 2.54884089 2.00489169\n",
            " 5.76238691 6.73962077] with total time 49 at 300 iteration\n"
          ]
        }
      ]
    },
    {
      "cell_type": "code",
      "source": [
        "#Visualization\n",
        "#Draw a Gantt chart\n",
        "def Gantt(self):\n",
        "    fig = plt.figure()\n",
        "    M = ['red', 'blue', 'yellow', 'orange', 'green', 'moccasin', 'purple', 'pink', 'navajowhite', 'Thistle',\n",
        "          'Magenta', 'SlateBlue', 'RoyalBlue', 'Aqua', 'floralwhite', 'ghostwhite', 'goldenrod', 'mediumslateblue',\n",
        "          'navajowhite','navy', 'sandybrown']\n",
        "    M_num=0\n",
        "    for i in range(len(self.M)):\n",
        "        for j in range(self.M[i]):\n",
        "            for k in range(len(self.Machines[i][j].start)):\n",
        "                Start_time=self.Machines[i][j].start[k]\n",
        "                End_time=self.Machines[i][j].end[k]\n",
        "                Job=self.Machines[i][j]._on[k]\n",
        "                plt.barh(M_num, width=End_time - Start_time, height=0.8, left=Start_time, \\\n",
        "                          color=M[Job], edgecolor='black')\n",
        "                plt.text(x=Start_time + ((End_time - Start_time) / 2 - 0.25), y=M_num - 0.2,\n",
        "                          s=Job+1, size=15, fontproperties='Times New Roman')\n",
        "            M_num += 1\n",
        "    plt.yticks(np.arange(M_num + 1), np.arange(1, M_num + 2), size=20, fontproperties='Times New Roman')\n",
        "\n",
        "    plt.ylabel(\"machine\", size=20, fontproperties='SimSun')\n",
        "    plt.xlabel(\"time\", size=20, fontproperties='SimSun')\n",
        "    plt.tick_params(labelsize=20)\n",
        "    plt.tick_params(direction='in')\n",
        "    plt.show()\n"
      ],
      "metadata": {
        "colab": {
          "base_uri": "https://localhost:8080/"
        },
        "id": "GP8oxIjmPP95",
        "outputId": "5ed25399-a884-42e7-d59b-5d8e303cb805"
      },
      "execution_count": null,
      "outputs": [
        {
          "output_type": "stream",
          "name": "stdout",
          "text": [
            "[0.         0.05050505 0.1010101  0.15151515 0.2020202  0.25252525\n",
            " 0.3030303  0.35353535 0.4040404  0.45454545 0.50505051 0.55555556\n",
            " 0.60606061 0.65656566 0.70707071 0.75757576 0.80808081 0.85858586\n",
            " 0.90909091 0.95959596 1.01010101 1.06060606 1.11111111 1.16161616\n",
            " 1.21212121 1.26262626 1.31313131 1.36363636 1.41414141 1.46464646\n",
            " 1.51515152 1.56565657 1.61616162 1.66666667 1.71717172 1.76767677\n",
            " 1.81818182 1.86868687 1.91919192 1.96969697 2.02020202 2.07070707\n",
            " 2.12121212 2.17171717 2.22222222 2.27272727 2.32323232 2.37373737\n",
            " 2.42424242 2.47474747 2.52525253 2.57575758 2.62626263 2.67676768\n",
            " 2.72727273 2.77777778 2.82828283 2.87878788 2.92929293 2.97979798\n",
            " 3.03030303 3.08080808 3.13131313 3.18181818 3.23232323 3.28282828\n",
            " 3.33333333 3.38383838 3.43434343 3.48484848 3.53535354 3.58585859\n",
            " 3.63636364 3.68686869 3.73737374 3.78787879 3.83838384 3.88888889\n",
            " 3.93939394 3.98989899 4.04040404 4.09090909 4.14141414 4.19191919\n",
            " 4.24242424 4.29292929 4.34343434 4.39393939 4.44444444 4.49494949\n",
            " 4.54545455 4.5959596  4.64646465 4.6969697  4.74747475 4.7979798\n",
            " 4.84848485 4.8989899  4.94949495 5.        ]\n"
          ]
        }
      ]
    }
  ]
}